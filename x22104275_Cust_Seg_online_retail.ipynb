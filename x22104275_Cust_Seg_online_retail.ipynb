{
 "cells": [
  {
   "cell_type": "code",
   "execution_count": 34,
   "id": "7d966294",
   "metadata": {},
   "outputs": [],
   "source": [
    "#Importing Libraries\n",
    "import pandas as pd\n",
    "import numpy as np\n",
    "import datetime as dt\n",
    "import matplotlib.pyplot as plt\n",
    "from sklearn.cluster import KMeans\n",
    "from sklearn.preprocessing import StandardScaler\n",
    "from yellowbrick.cluster import KElbowVisualizer\n",
    "import warnings\n",
    "import seaborn as sns\n",
    "warnings.simplefilter(action='ignore', category=FutureWarning)\n",
    "%matplotlib inline"
   ]
  },
  {
   "cell_type": "code",
   "execution_count": 2,
   "id": "d0aa24bb",
   "metadata": {},
   "outputs": [],
   "source": [
    "#pip install cufflinks"
   ]
  },
  {
   "cell_type": "code",
   "execution_count": 3,
   "id": "a106123d",
   "metadata": {},
   "outputs": [],
   "source": [
    "# Plotly for interactive plots\n",
    "import plotly.express as px\n",
    "import plotly.io as pio\n",
    "pio.templates.default = 'plotly_white'\n",
    "\n",
    "# Set display options for Pandas\n",
    "pd.set_option('display.max_columns', None)\n",
    "pd.set_option('display.max_colwidth', None)\n",
    "\n",
    "# tqdm for progress bars in pandas operations (if you use progress_apply)\n",
    "from tqdm import tqdm\n",
    "tqdm.pandas()"
   ]
  },
  {
   "cell_type": "code",
   "execution_count": 4,
   "id": "edd191ed",
   "metadata": {},
   "outputs": [],
   "source": [
    "#pip install wordcloud"
   ]
  },
  {
   "cell_type": "code",
   "execution_count": 5,
   "id": "160a8589",
   "metadata": {},
   "outputs": [],
   "source": [
    "import re\n",
    "from wordcloud import WordCloud\n",
    "\n",
    "plt.rcParams[\"figure.figsize\"] = (12, 8)\n",
    "plt.rcParams['axes.titlesize'] = 16\n",
    "plt.style.use('seaborn-whitegrid')\n",
    "sns.set_palette('Set3')"
   ]
  },
  {
   "cell_type": "code",
   "execution_count": 6,
   "id": "22ff97b7",
   "metadata": {},
   "outputs": [
    {
     "name": "stdout",
     "output_type": "stream",
     "text": [
      "True\n"
     ]
    }
   ],
   "source": [
    "import os\n",
    "\n",
    "file_path = \"C:/Users/aravi/OneDrive/Desktop/RIC/Online_Retail.csv\"\n",
    "file_exists = os.path.exists(file_path)\n",
    "print(file_exists)\n"
   ]
  },
  {
   "cell_type": "code",
   "execution_count": 7,
   "id": "77ad9f55",
   "metadata": {
    "scrolled": true
   },
   "outputs": [
    {
     "name": "stdout",
     "output_type": "stream",
     "text": [
      "(541909, 8)\n"
     ]
    },
    {
     "data": {
      "text/html": [
       "<div>\n",
       "<style scoped>\n",
       "    .dataframe tbody tr th:only-of-type {\n",
       "        vertical-align: middle;\n",
       "    }\n",
       "\n",
       "    .dataframe tbody tr th {\n",
       "        vertical-align: top;\n",
       "    }\n",
       "\n",
       "    .dataframe thead th {\n",
       "        text-align: right;\n",
       "    }\n",
       "</style>\n",
       "<table border=\"1\" class=\"dataframe\">\n",
       "  <thead>\n",
       "    <tr style=\"text-align: right;\">\n",
       "      <th></th>\n",
       "      <th>InvoiceNo</th>\n",
       "      <th>StockCode</th>\n",
       "      <th>Description</th>\n",
       "      <th>Quantity</th>\n",
       "      <th>InvoiceDate</th>\n",
       "      <th>UnitPrice</th>\n",
       "      <th>CustomerID</th>\n",
       "      <th>Country</th>\n",
       "    </tr>\n",
       "  </thead>\n",
       "  <tbody>\n",
       "    <tr>\n",
       "      <th>0</th>\n",
       "      <td>536365</td>\n",
       "      <td>85123A</td>\n",
       "      <td>WHITE HANGING HEART T-LIGHT HOLDER</td>\n",
       "      <td>6</td>\n",
       "      <td>12/1/10 8:26</td>\n",
       "      <td>2.55</td>\n",
       "      <td>17850.0</td>\n",
       "      <td>United Kingdom</td>\n",
       "    </tr>\n",
       "    <tr>\n",
       "      <th>1</th>\n",
       "      <td>536365</td>\n",
       "      <td>71053</td>\n",
       "      <td>WHITE METAL LANTERN</td>\n",
       "      <td>6</td>\n",
       "      <td>12/1/10 8:26</td>\n",
       "      <td>3.39</td>\n",
       "      <td>17850.0</td>\n",
       "      <td>United Kingdom</td>\n",
       "    </tr>\n",
       "    <tr>\n",
       "      <th>2</th>\n",
       "      <td>536365</td>\n",
       "      <td>84406B</td>\n",
       "      <td>CREAM CUPID HEARTS COAT HANGER</td>\n",
       "      <td>8</td>\n",
       "      <td>12/1/10 8:26</td>\n",
       "      <td>2.75</td>\n",
       "      <td>17850.0</td>\n",
       "      <td>United Kingdom</td>\n",
       "    </tr>\n",
       "    <tr>\n",
       "      <th>3</th>\n",
       "      <td>536365</td>\n",
       "      <td>84029G</td>\n",
       "      <td>KNITTED UNION FLAG HOT WATER BOTTLE</td>\n",
       "      <td>6</td>\n",
       "      <td>12/1/10 8:26</td>\n",
       "      <td>3.39</td>\n",
       "      <td>17850.0</td>\n",
       "      <td>United Kingdom</td>\n",
       "    </tr>\n",
       "    <tr>\n",
       "      <th>4</th>\n",
       "      <td>536365</td>\n",
       "      <td>84029E</td>\n",
       "      <td>RED WOOLLY HOTTIE WHITE HEART.</td>\n",
       "      <td>6</td>\n",
       "      <td>12/1/10 8:26</td>\n",
       "      <td>3.39</td>\n",
       "      <td>17850.0</td>\n",
       "      <td>United Kingdom</td>\n",
       "    </tr>\n",
       "  </tbody>\n",
       "</table>\n",
       "</div>"
      ],
      "text/plain": [
       "  InvoiceNo StockCode                          Description  Quantity  \\\n",
       "0    536365    85123A   WHITE HANGING HEART T-LIGHT HOLDER         6   \n",
       "1    536365     71053                  WHITE METAL LANTERN         6   \n",
       "2    536365    84406B       CREAM CUPID HEARTS COAT HANGER         8   \n",
       "3    536365    84029G  KNITTED UNION FLAG HOT WATER BOTTLE         6   \n",
       "4    536365    84029E       RED WOOLLY HOTTIE WHITE HEART.         6   \n",
       "\n",
       "    InvoiceDate  UnitPrice  CustomerID         Country  \n",
       "0  12/1/10 8:26       2.55     17850.0  United Kingdom  \n",
       "1  12/1/10 8:26       3.39     17850.0  United Kingdom  \n",
       "2  12/1/10 8:26       2.75     17850.0  United Kingdom  \n",
       "3  12/1/10 8:26       3.39     17850.0  United Kingdom  \n",
       "4  12/1/10 8:26       3.39     17850.0  United Kingdom  "
      ]
     },
     "execution_count": 7,
     "metadata": {},
     "output_type": "execute_result"
    }
   ],
   "source": [
    "import pandas as pd\n",
    "\n",
    "try:\n",
    "    data = pd.read_csv('Online_Retail.csv', encoding='ISO-8859-1')\n",
    "except UnicodeDecodeError:\n",
    "    data = pd.read_csv('Online_Retail.csv', encoding='Windows-1252')\n",
    "\n",
    "print(data.shape)\n",
    "data.head()\n"
   ]
  },
  {
   "cell_type": "code",
   "execution_count": 8,
   "id": "588ddc23",
   "metadata": {},
   "outputs": [
    {
     "name": "stdout",
     "output_type": "stream",
     "text": [
      "------------------------------------------------------ SHAPE OF DATASET -----------------------------------------------------\n",
      "Rows:541909\n",
      "Columns:8\n",
      "------------------------------------------------------------ HEAD -----------------------------------------------------------\n",
      "  InvoiceNo StockCode                          Description  Quantity  \\\n",
      "0    536365    85123A   WHITE HANGING HEART T-LIGHT HOLDER         6   \n",
      "1    536365     71053                  WHITE METAL LANTERN         6   \n",
      "2    536365    84406B       CREAM CUPID HEARTS COAT HANGER         8   \n",
      "3    536365    84029G  KNITTED UNION FLAG HOT WATER BOTTLE         6   \n",
      "4    536365    84029E       RED WOOLLY HOTTIE WHITE HEART.         6   \n",
      "\n",
      "    InvoiceDate  UnitPrice  CustomerID         Country  \n",
      "0  12/1/10 8:26       2.55     17850.0  United Kingdom  \n",
      "1  12/1/10 8:26       3.39     17850.0  United Kingdom  \n",
      "2  12/1/10 8:26       2.75     17850.0  United Kingdom  \n",
      "3  12/1/10 8:26       3.39     17850.0  United Kingdom  \n",
      "4  12/1/10 8:26       3.39     17850.0  United Kingdom  \n",
      "----------------------------------------------------------DATA TYPES---------------------------------------------------------\n",
      "object     5\n",
      "float64    2\n",
      "int64      1\n",
      "dtype: int64\n",
      "------------------------------------------------------- MISSING VALUES ------------------------------------------------------\n",
      "CustomerID     135080\n",
      "Description      1454\n",
      "dtype: int64\n",
      "----------------------------------------------------- DUPLICATED VALUES -----------------------------------------------------\n",
      "5268\n",
      "----------------------------------------------------- STATISTICS OF DATA ----------------------------------------------------\n",
      "       InvoiceNo StockCode                         Description       Quantity  \\\n",
      "count     541909    541909                              540455  541909.000000   \n",
      "unique     25900      4070                                4223            NaN   \n",
      "top       573585    85123A  WHITE HANGING HEART T-LIGHT HOLDER            NaN   \n",
      "freq        1114      2313                                2369            NaN   \n",
      "mean         NaN       NaN                                 NaN       9.552250   \n",
      "std          NaN       NaN                                 NaN     218.081158   \n",
      "min          NaN       NaN                                 NaN  -80995.000000   \n",
      "25%          NaN       NaN                                 NaN       1.000000   \n",
      "50%          NaN       NaN                                 NaN       3.000000   \n",
      "75%          NaN       NaN                                 NaN      10.000000   \n",
      "max          NaN       NaN                                 NaN   80995.000000   \n",
      "\n",
      "           InvoiceDate      UnitPrice     CustomerID         Country  \n",
      "count           541909  541909.000000  406829.000000          541909  \n",
      "unique           23260            NaN            NaN              38  \n",
      "top     10/31/11 14:41            NaN            NaN  United Kingdom  \n",
      "freq              1114            NaN            NaN          495478  \n",
      "mean               NaN       4.611114   15287.690570             NaN  \n",
      "std                NaN      96.759853    1713.600303             NaN  \n",
      "min                NaN  -11062.060000   12346.000000             NaN  \n",
      "25%                NaN       1.250000   13953.000000             NaN  \n",
      "50%                NaN       2.080000   15152.000000             NaN  \n",
      "75%                NaN       4.130000   16791.000000             NaN  \n",
      "max                NaN   38970.000000   18287.000000             NaN  \n",
      "----------------------------------------------------------DATA INFO----------------------------------------------------------\n",
      "<class 'pandas.core.frame.DataFrame'>\n",
      "RangeIndex: 541909 entries, 0 to 541908\n",
      "Data columns (total 8 columns):\n",
      " #   Column       Non-Null Count   Dtype  \n",
      "---  ------       --------------   -----  \n",
      " 0   InvoiceNo    541909 non-null  object \n",
      " 1   StockCode    541909 non-null  object \n",
      " 2   Description  540455 non-null  object \n",
      " 3   Quantity     541909 non-null  int64  \n",
      " 4   InvoiceDate  541909 non-null  object \n",
      " 5   UnitPrice    541909 non-null  float64\n",
      " 6   CustomerID   406829 non-null  float64\n",
      " 7   Country      541909 non-null  object \n",
      "dtypes: float64(2), int64(1), object(5)\n",
      "memory usage: 33.1+ MB\n",
      "None\n"
     ]
    }
   ],
   "source": [
    "pd.set_option('display.max_columns', None) \n",
    "def data_overview(df, head=5):\n",
    "    print(\" SHAPE OF DATASET \".center(125,'-'))\n",
    "    print('Rows:{}'.format(df.shape[0]))\n",
    "    print('Columns:{}'.format(df.shape[1]))\n",
    "    print(\" HEAD \".center(125,'-'))\n",
    "    print(df.head(head))\n",
    "    print(\"DATA TYPES\".center(125,'-'))\n",
    "    print(data.dtypes.value_counts())\n",
    "    print(\" MISSING VALUES \".center(125,'-'))\n",
    "    print(df.isnull().sum()[df.isnull().sum()>0].sort_values(ascending = False))\n",
    "    print(\" DUPLICATED VALUES \".center(125,'-'))\n",
    "    print(df.duplicated().sum())\n",
    "    print(\" STATISTICS OF DATA \".center(125,'-'))\n",
    "    print(df.describe(include=\"all\"))\n",
    "    print(\"DATA INFO\".center(125,'-'))\n",
    "    print(df.info())\n",
    "    \n",
    "    \n",
    "data_overview(data)"
   ]
  },
  {
   "cell_type": "markdown",
   "id": "68ac0b6e",
   "metadata": {},
   "source": [
    "Dealing with Missing values"
   ]
  },
  {
   "cell_type": "code",
   "execution_count": 9,
   "id": "462eaa9e",
   "metadata": {},
   "outputs": [
    {
     "data": {
      "image/png": "[encoded data removed]",
      "text/plain": [
       "<Figure size 1200x800 with 1 Axes>"
      ]
     },
     "metadata": {},
     "output_type": "display_data"
    },
    {
     "data": {
      "text/html": [
       "<div>\n",
       "<style scoped>\n",
       "    .dataframe tbody tr th:only-of-type {\n",
       "        vertical-align: middle;\n",
       "    }\n",
       "\n",
       "    .dataframe tbody tr th {\n",
       "        vertical-align: top;\n",
       "    }\n",
       "\n",
       "    .dataframe thead th {\n",
       "        text-align: right;\n",
       "    }\n",
       "</style>\n",
       "<table border=\"1\" class=\"dataframe\">\n",
       "  <thead>\n",
       "    <tr style=\"text-align: right;\">\n",
       "      <th>features</th>\n",
       "      <th>InvoiceNo</th>\n",
       "      <th>StockCode</th>\n",
       "      <th>Description</th>\n",
       "      <th>Quantity</th>\n",
       "      <th>InvoiceDate</th>\n",
       "      <th>UnitPrice</th>\n",
       "      <th>CustomerID</th>\n",
       "      <th>Country</th>\n",
       "    </tr>\n",
       "  </thead>\n",
       "  <tbody>\n",
       "    <tr>\n",
       "      <th>total_missing</th>\n",
       "      <td>0.0</td>\n",
       "      <td>0.0</td>\n",
       "      <td>1454.000000</td>\n",
       "      <td>0.0</td>\n",
       "      <td>0.0</td>\n",
       "      <td>0.0</td>\n",
       "      <td>135080.000000</td>\n",
       "      <td>0.0</td>\n",
       "    </tr>\n",
       "    <tr>\n",
       "      <th>percent</th>\n",
       "      <td>0.0</td>\n",
       "      <td>0.0</td>\n",
       "      <td>0.268311</td>\n",
       "      <td>0.0</td>\n",
       "      <td>0.0</td>\n",
       "      <td>0.0</td>\n",
       "      <td>24.926694</td>\n",
       "      <td>0.0</td>\n",
       "    </tr>\n",
       "  </tbody>\n",
       "</table>\n",
       "</div>"
      ],
      "text/plain": [
       "features       InvoiceNo  StockCode  Description  Quantity  InvoiceDate  \\\n",
       "total_missing        0.0        0.0  1454.000000       0.0          0.0   \n",
       "percent              0.0        0.0     0.268311       0.0          0.0   \n",
       "\n",
       "features       UnitPrice     CustomerID  Country  \n",
       "total_missing        0.0  135080.000000      0.0  \n",
       "percent              0.0      24.926694      0.0  "
      ]
     },
     "execution_count": 9,
     "metadata": {},
     "output_type": "execute_result"
    }
   ],
   "source": [
    "missing = data.isna().sum().reset_index()\n",
    "missing.columns = ['features', 'total_missing']\n",
    "missing['percent'] = (missing['total_missing'] / len(data)) * 100\n",
    "missing.index = missing['features']\n",
    "del missing['features']\n",
    "\n",
    "import matplotlib.pyplot as plt\n",
    "\n",
    "missing['total_missing'].plot(kind='bar', title='')\n",
    "plt.xlabel('Features')\n",
    "plt.ylabel('Count')\n",
    "plt.show()\n",
    "missing.T"
   ]
  },
  {
   "cell_type": "code",
   "execution_count": 10,
   "id": "53589f51",
   "metadata": {},
   "outputs": [
    {
     "data": {
      "text/plain": [
       "Index(['InvoiceNo', 'StockCode', 'Description', 'Quantity', 'InvoiceDate',\n",
       "       'UnitPrice', 'CustomerID', 'Country'],\n",
       "      dtype='object')"
      ]
     },
     "execution_count": 10,
     "metadata": {},
     "output_type": "execute_result"
    }
   ],
   "source": [
    "data.columns"
   ]
  },
  {
   "cell_type": "code",
   "execution_count": 11,
   "id": "d6c21a58",
   "metadata": {},
   "outputs": [
    {
     "name": "stdout",
     "output_type": "stream",
     "text": [
      "Shape of data before removing NaN's in CustomerID (541909, 8)\n",
      "Shape of data after removing NaN's in CustomerID (406829, 8)\n"
     ]
    }
   ],
   "source": [
    "# Removing NaN's in CustomerID\n",
    "print(\"Shape of data before removing NaN's in CustomerID\", data.shape)\n",
    "data.dropna(subset=['CustomerID'], axis=0, inplace=True)  # Corrected column name\n",
    "print(\"Shape of data after removing NaN's in CustomerID\", data.shape)"
   ]
  },
  {
   "cell_type": "code",
   "execution_count": 12,
   "id": "0aeac65e",
   "metadata": {},
   "outputs": [
    {
     "name": "stdout",
     "output_type": "stream",
     "text": [
      "Missing values in each column after cleaning CustomerID :\n",
      " InvoiceNo      0\n",
      "StockCode      0\n",
      "Description    0\n",
      "Quantity       0\n",
      "InvoiceDate    0\n",
      "UnitPrice      0\n",
      "CustomerID     0\n",
      "Country        0\n",
      "dtype: int64\n"
     ]
    }
   ],
   "source": [
    "print(\"Missing values in each column after cleaning CustomerID :\\n\",data.isnull().sum())"
   ]
  },
  {
   "cell_type": "markdown",
   "id": "c4c09dce",
   "metadata": {},
   "source": [
    "Removing cancelled products from InvoiceNo"
   ]
  },
  {
   "cell_type": "code",
   "execution_count": 13,
   "id": "cfc477d1",
   "metadata": {},
   "outputs": [
    {
     "name": "stdout",
     "output_type": "stream",
     "text": [
      "Dataset is free from cancelled products information\n"
     ]
    }
   ],
   "source": [
    "#using one's compliment operator (~) we can unselect all the Invoice column which doesnt contain \"C\".\n",
    "data = data[~data.InvoiceNo.str.contains('C',na=False)]\n",
    "print(\"Dataset is free from cancelled products information\")"
   ]
  },
  {
   "cell_type": "markdown",
   "id": "f437a8d7",
   "metadata": {},
   "source": [
    "Removing Duplicates"
   ]
  },
  {
   "cell_type": "code",
   "execution_count": 14,
   "id": "ced94aa1",
   "metadata": {},
   "outputs": [
    {
     "name": "stdout",
     "output_type": "stream",
     "text": [
      "Number of duplicates before cleaning: 5192\n",
      "Number of duplicates after cleaning: 0\n"
     ]
    }
   ],
   "source": [
    "# Removing duplicates (Values in all columns are identical)\n",
    "print(\"Number of duplicates before cleaning:\",data.duplicated().sum())\n",
    "data = data.drop_duplicates(keep=\"first\")\n",
    "print(\"Number of duplicates after cleaning:\",data.duplicated().sum())"
   ]
  },
  {
   "cell_type": "markdown",
   "id": "f4105e91",
   "metadata": {},
   "source": [
    "Checking for negative value"
   ]
  },
  {
   "cell_type": "code",
   "execution_count": 15,
   "id": "c04b013f",
   "metadata": {},
   "outputs": [
    {
     "name": "stdout",
     "output_type": "stream",
     "text": [
      "Negative value in Quantity is: 0\n",
      "Negative value in UnitPrice is: 0\n"
     ]
    }
   ],
   "source": [
    "print(\"Negative value in Quantity is:\",(data.Quantity<0).sum())\n",
    "print(\"Negative value in UnitPrice is:\",(data.UnitPrice<0).sum())"
   ]
  },
  {
   "cell_type": "markdown",
   "id": "f4982ad8",
   "metadata": {},
   "source": [
    "Cleaning Outliers"
   ]
  },
  {
   "cell_type": "code",
   "execution_count": 16,
   "id": "7de1d9e8",
   "metadata": {},
   "outputs": [],
   "source": [
    "#defining funcation to remove outliers w.r.t its thresholds\n",
    "def outlier_thresholds(dataframe, variable):\n",
    "    quartile1 = dataframe[variable].quantile(0.01)\n",
    "    quartile3 = dataframe[variable].quantile(0.99)\n",
    "    interquantile_range = quartile3 - quartile1\n",
    "    up_limit = quartile3 + 1.5 * interquantile_range\n",
    "    low_limit = quartile1 - 1.5 * interquantile_range\n",
    "    return up_limit, low_limit\n",
    "\n",
    "def replace_with_threshold(dataframe, variable):\n",
    "    up_limit, low_limit = outlier_thresholds(dataframe, variable)\n",
    "    # dataframe.loc[(dataframe[variable] < low_limit), variable] = low_limit\n",
    "    dataframe.loc[(dataframe[variable] > up_limit), variable] = up_limit"
   ]
  },
  {
   "cell_type": "code",
   "execution_count": 17,
   "id": "eb018883",
   "metadata": {},
   "outputs": [
    {
     "data": {
      "image/png": "[encoded data removed]",
      "text/plain": [
       "<Figure size 2000x500 with 2 Axes>"
      ]
     },
     "metadata": {},
     "output_type": "display_data"
    }
   ],
   "source": [
    "# Observing them before removing outliers.\n",
    "f, ax = plt.subplots(2,1, figsize = (20,5))\n",
    "col_list = [\"Quantity\",\"UnitPrice\"]\n",
    "for i in range(0,2):\n",
    "    ax[i].boxplot(data[col_list[i]],flierprops = dict(marker = \"s\", markerfacecolor = \"red\"), vert = 0)\n",
    "plt.show()"
   ]
  },
  {
   "cell_type": "code",
   "execution_count": 18,
   "id": "17c2d6ed",
   "metadata": {},
   "outputs": [],
   "source": [
    "# Applying the functions for remove the outlier.\n",
    "replace_with_threshold(data, \"Quantity\")\n",
    "replace_with_threshold(data, \"UnitPrice\")"
   ]
  },
  {
   "cell_type": "code",
   "execution_count": 19,
   "id": "bc01f2e2",
   "metadata": {},
   "outputs": [
    {
     "data": {
      "image/png": "[encoded data removed]",
      "text/plain": [
       "<Figure size 2000x500 with 2 Axes>"
      ]
     },
     "metadata": {},
     "output_type": "display_data"
    }
   ],
   "source": [
    "# Observing them after removing outliers.\n",
    "f, ax = plt.subplots(2,1, figsize = (20,5))\n",
    "for i in range(0,2):\n",
    "    ax[i].boxplot(data[col_list[i]],flierprops = dict(marker = \"s\", markerfacecolor = \"red\"), vert = 0)\n",
    "plt.show()"
   ]
  },
  {
   "cell_type": "markdown",
   "id": "3b00e8d2",
   "metadata": {},
   "source": [
    "# Feature Engineering"
   ]
  },
  {
   "cell_type": "code",
   "execution_count": 20,
   "id": "e87b4dc0",
   "metadata": {},
   "outputs": [],
   "source": [
    "#Creating new feature Revenue\n",
    "data[\"Revenue\"] = data[\"Quantity\"] * data[\"UnitPrice\"]"
   ]
  },
  {
   "cell_type": "code",
   "execution_count": 21,
   "id": "c822c8c2",
   "metadata": {},
   "outputs": [],
   "source": [
    "#Creating Features for RFM Model\n",
    "#Changing data type to datetime\n",
    "data['InvoiceDate'] = pd.to_datetime(data['InvoiceDate'])"
   ]
  },
  {
   "cell_type": "code",
   "execution_count": 22,
   "id": "a0794dd2",
   "metadata": {},
   "outputs": [
    {
     "name": "stdout",
     "output_type": "stream",
     "text": [
      "Max date : 2011-12-09 12:50:00\n",
      "Min date : 2010-12-01 08:26:00\n"
     ]
    }
   ],
   "source": [
    "print(\"Max date :\",data[\"InvoiceDate\"].max())\n",
    "print(\"Min date :\",data[\"InvoiceDate\"].min())#Creating Features for RFM Model\n",
    "#Changing data type to datetime\n",
    "data['InvoiceDate'] = pd.to_datetime(data['InvoiceDate'])"
   ]
  },
  {
   "cell_type": "code",
   "execution_count": 23,
   "id": "004689c1",
   "metadata": {},
   "outputs": [
    {
     "data": {
      "text/html": [
       "<style type=\"text/css\">\n",
       "#T_3757f_row0_col0, #T_3757f_row0_col1, #T_3757f_row0_col2, #T_3757f_row0_col3, #T_3757f_row1_col0, #T_3757f_row1_col1, #T_3757f_row1_col2, #T_3757f_row1_col3, #T_3757f_row2_col0, #T_3757f_row2_col1, #T_3757f_row2_col2, #T_3757f_row2_col3, #T_3757f_row3_col0, #T_3757f_row3_col1, #T_3757f_row3_col2, #T_3757f_row3_col3, #T_3757f_row4_col0, #T_3757f_row4_col1, #T_3757f_row4_col2, #T_3757f_row4_col3 {\n",
       "  background-color: #cd5c5c;\n",
       "  color: black;\n",
       "  border-color: black;\n",
       "}\n",
       "</style>\n",
       "<table id=\"T_3757f\">\n",
       "  <thead>\n",
       "    <tr>\n",
       "      <th class=\"blank level0\" >&nbsp;</th>\n",
       "      <th id=\"T_3757f_level0_col0\" class=\"col_heading level0 col0\" >CustomerID</th>\n",
       "      <th id=\"T_3757f_level0_col1\" class=\"col_heading level0 col1\" >Recency</th>\n",
       "      <th id=\"T_3757f_level0_col2\" class=\"col_heading level0 col2\" >Frequency</th>\n",
       "      <th id=\"T_3757f_level0_col3\" class=\"col_heading level0 col3\" >Monetary</th>\n",
       "    </tr>\n",
       "  </thead>\n",
       "  <tbody>\n",
       "    <tr>\n",
       "      <th id=\"T_3757f_level0_row0\" class=\"row_heading level0 row0\" >0</th>\n",
       "      <td id=\"T_3757f_row0_col0\" class=\"data row0 col0\" >12346.000000</td>\n",
       "      <td id=\"T_3757f_row0_col1\" class=\"data row0 col1\" >325</td>\n",
       "      <td id=\"T_3757f_row0_col2\" class=\"data row0 col2\" >1</td>\n",
       "      <td id=\"T_3757f_row0_col3\" class=\"data row0 col3\" >310.440000</td>\n",
       "    </tr>\n",
       "    <tr>\n",
       "      <th id=\"T_3757f_level0_row1\" class=\"row_heading level0 row1\" >1</th>\n",
       "      <td id=\"T_3757f_row1_col0\" class=\"data row1 col0\" >12347.000000</td>\n",
       "      <td id=\"T_3757f_row1_col1\" class=\"data row1 col1\" >2</td>\n",
       "      <td id=\"T_3757f_row1_col2\" class=\"data row1 col2\" >7</td>\n",
       "      <td id=\"T_3757f_row1_col3\" class=\"data row1 col3\" >4310.000000</td>\n",
       "    </tr>\n",
       "    <tr>\n",
       "      <th id=\"T_3757f_level0_row2\" class=\"row_heading level0 row2\" >2</th>\n",
       "      <td id=\"T_3757f_row2_col0\" class=\"data row2 col0\" >12348.000000</td>\n",
       "      <td id=\"T_3757f_row2_col1\" class=\"data row2 col1\" >75</td>\n",
       "      <td id=\"T_3757f_row2_col2\" class=\"data row2 col2\" >4</td>\n",
       "      <td id=\"T_3757f_row2_col3\" class=\"data row2 col3\" >1770.780000</td>\n",
       "    </tr>\n",
       "    <tr>\n",
       "      <th id=\"T_3757f_level0_row3\" class=\"row_heading level0 row3\" >3</th>\n",
       "      <td id=\"T_3757f_row3_col0\" class=\"data row3 col0\" >12349.000000</td>\n",
       "      <td id=\"T_3757f_row3_col1\" class=\"data row3 col1\" >18</td>\n",
       "      <td id=\"T_3757f_row3_col2\" class=\"data row3 col2\" >1</td>\n",
       "      <td id=\"T_3757f_row3_col3\" class=\"data row3 col3\" >1491.720000</td>\n",
       "    </tr>\n",
       "    <tr>\n",
       "      <th id=\"T_3757f_level0_row4\" class=\"row_heading level0 row4\" >4</th>\n",
       "      <td id=\"T_3757f_row4_col0\" class=\"data row4 col0\" >12350.000000</td>\n",
       "      <td id=\"T_3757f_row4_col1\" class=\"data row4 col1\" >310</td>\n",
       "      <td id=\"T_3757f_row4_col2\" class=\"data row4 col2\" >1</td>\n",
       "      <td id=\"T_3757f_row4_col3\" class=\"data row4 col3\" >331.460000</td>\n",
       "    </tr>\n",
       "  </tbody>\n",
       "</table>\n"
      ],
      "text/plain": [
       "<pandas.io.formats.style.Styler at 0x235afeda310>"
      ]
     },
     "execution_count": 23,
     "metadata": {},
     "output_type": "execute_result"
    }
   ],
   "source": [
    "#RFM Featuring\n",
    "#Set Latest date 2011-12-10 as last invoice date was 2011-12-09.\n",
    "Latest_Date = dt.datetime(2011,12,10)\n",
    "\n",
    "#Creating RFM features with subset of customerID\n",
    "RFM = data.groupby('CustomerID').agg({'InvoiceDate': lambda x: (Latest_Date - x.max()).days, \n",
    "                                                 'InvoiceNo': lambda x: x.nunique(), \n",
    "                                                 \"Revenue\": lambda x: x.sum()})\n",
    "                                \n",
    "RFM['InvoiceDate'] = RFM['InvoiceDate'].astype(int)\n",
    "\n",
    "#Renaming column names to Recency, Frequency and Monetary\n",
    "RFM.rename(columns={'InvoiceDate': 'Recency', \n",
    "                         'InvoiceNo': 'Frequency', \n",
    "                         'Revenue': 'Monetary'}, inplace=True)\n",
    "\n",
    "RFM.reset_index().head().style.set_properties(**{\"background-color\": \"#cd5c5c\",\"color\": \"black\", \"border-color\": \"black\"})"
   ]
  },
  {
   "cell_type": "markdown",
   "id": "c41fdd0c",
   "metadata": {},
   "source": [
    "Introducing New Feature : Interpurchase-Time"
   ]
  },
  {
   "cell_type": "markdown",
   "id": "6d4971ff",
   "metadata": {},
   "source": [
    "The Fourth varibale of RFM, InterPurchase Time, is a measure of average time gap between total shopping trips by a customer. The Interpurchase Time is calcluted as fallows :"
   ]
  },
  {
   "cell_type": "markdown",
   "id": "9a3436f1",
   "metadata": {},
   "source": [
    "T = L/(F-1) = (Tn - T1)/(F-1)"
   ]
  },
  {
   "cell_type": "markdown",
   "id": "19db4401",
   "metadata": {},
   "source": [
    "T --> Interpurchase Time"
   ]
  },
  {
   "cell_type": "markdown",
   "id": "f5bbe909",
   "metadata": {},
   "source": [
    "L --> Shopping Cycle"
   ]
  },
  {
   "cell_type": "markdown",
   "id": "d40e8f47",
   "metadata": {},
   "source": [
    "F --> Frequency"
   ]
  },
  {
   "cell_type": "markdown",
   "id": "057c7721",
   "metadata": {},
   "source": [
    "T1 --> First purchase"
   ]
  },
  {
   "cell_type": "markdown",
   "id": "98a5792c",
   "metadata": {},
   "source": [
    "Tn --> Last purchase"
   ]
  },
  {
   "cell_type": "markdown",
   "id": "6553be3d",
   "metadata": {},
   "source": [
    "Note: We consider only those customers who made purchase more than once."
   ]
  },
  {
   "cell_type": "code",
   "execution_count": 24,
   "id": "e547faff",
   "metadata": {},
   "outputs": [
    {
     "data": {
      "text/html": [
       "<style type=\"text/css\">\n",
       "#T_bef09_row0_col0, #T_bef09_row0_col1, #T_bef09_row0_col2, #T_bef09_row1_col0, #T_bef09_row1_col1, #T_bef09_row1_col2, #T_bef09_row2_col0, #T_bef09_row2_col1, #T_bef09_row2_col2, #T_bef09_row3_col0, #T_bef09_row3_col1, #T_bef09_row3_col2, #T_bef09_row4_col0, #T_bef09_row4_col1, #T_bef09_row4_col2 {\n",
       "  background-color: #cd5c5c;\n",
       "  color: black;\n",
       "  border-color: black;\n",
       "}\n",
       "</style>\n",
       "<table id=\"T_bef09\">\n",
       "  <thead>\n",
       "    <tr>\n",
       "      <th class=\"blank level0\" >&nbsp;</th>\n",
       "      <th id=\"T_bef09_level0_col0\" class=\"col_heading level0 col0\" >Recency</th>\n",
       "      <th id=\"T_bef09_level0_col1\" class=\"col_heading level0 col1\" >Frequency</th>\n",
       "      <th id=\"T_bef09_level0_col2\" class=\"col_heading level0 col2\" >Monetary</th>\n",
       "    </tr>\n",
       "    <tr>\n",
       "      <th class=\"index_name level0\" >CustomerID</th>\n",
       "      <th class=\"blank col0\" >&nbsp;</th>\n",
       "      <th class=\"blank col1\" >&nbsp;</th>\n",
       "      <th class=\"blank col2\" >&nbsp;</th>\n",
       "    </tr>\n",
       "  </thead>\n",
       "  <tbody>\n",
       "    <tr>\n",
       "      <th id=\"T_bef09_level0_row0\" class=\"row_heading level0 row0\" >12347.000000</th>\n",
       "      <td id=\"T_bef09_row0_col0\" class=\"data row0 col0\" >2</td>\n",
       "      <td id=\"T_bef09_row0_col1\" class=\"data row0 col1\" >7</td>\n",
       "      <td id=\"T_bef09_row0_col2\" class=\"data row0 col2\" >4310.000000</td>\n",
       "    </tr>\n",
       "    <tr>\n",
       "      <th id=\"T_bef09_level0_row1\" class=\"row_heading level0 row1\" >12348.000000</th>\n",
       "      <td id=\"T_bef09_row1_col0\" class=\"data row1 col0\" >75</td>\n",
       "      <td id=\"T_bef09_row1_col1\" class=\"data row1 col1\" >4</td>\n",
       "      <td id=\"T_bef09_row1_col2\" class=\"data row1 col2\" >1770.780000</td>\n",
       "    </tr>\n",
       "    <tr>\n",
       "      <th id=\"T_bef09_level0_row2\" class=\"row_heading level0 row2\" >12352.000000</th>\n",
       "      <td id=\"T_bef09_row2_col0\" class=\"data row2 col0\" >36</td>\n",
       "      <td id=\"T_bef09_row2_col1\" class=\"data row2 col1\" >8</td>\n",
       "      <td id=\"T_bef09_row2_col2\" class=\"data row2 col2\" >1756.340000</td>\n",
       "    </tr>\n",
       "    <tr>\n",
       "      <th id=\"T_bef09_level0_row3\" class=\"row_heading level0 row3\" >12356.000000</th>\n",
       "      <td id=\"T_bef09_row3_col0\" class=\"data row3 col0\" >22</td>\n",
       "      <td id=\"T_bef09_row3_col1\" class=\"data row3 col1\" >3</td>\n",
       "      <td id=\"T_bef09_row3_col2\" class=\"data row3 col2\" >2811.430000</td>\n",
       "    </tr>\n",
       "    <tr>\n",
       "      <th id=\"T_bef09_level0_row4\" class=\"row_heading level0 row4\" >12358.000000</th>\n",
       "      <td id=\"T_bef09_row4_col0\" class=\"data row4 col0\" >1</td>\n",
       "      <td id=\"T_bef09_row4_col1\" class=\"data row4 col1\" >2</td>\n",
       "      <td id=\"T_bef09_row4_col2\" class=\"data row4 col2\" >1150.420000</td>\n",
       "    </tr>\n",
       "  </tbody>\n",
       "</table>\n"
      ],
      "text/plain": [
       "<pandas.io.formats.style.Styler at 0x235afedadc0>"
      ]
     },
     "execution_count": 24,
     "metadata": {},
     "output_type": "execute_result"
    }
   ],
   "source": [
    "RFM = RFM[(RFM[\"Frequency\"]>1)]\n",
    "RFM.head().style.set_properties(**{\"background-color\": \"#cd5c5c\",\"color\": \"black\", \"border-color\": \"black\"})"
   ]
  },
  {
   "cell_type": "code",
   "execution_count": 25,
   "id": "c18c112c",
   "metadata": {},
   "outputs": [],
   "source": [
    "Shopping_Cycle = data.groupby('CustomerID').agg({'InvoiceDate': lambda x: ((x.max() - x.min()).days)})"
   ]
  },
  {
   "cell_type": "code",
   "execution_count": 26,
   "id": "12480abc",
   "metadata": {},
   "outputs": [
    {
     "data": {
      "text/html": [
       "<style type=\"text/css\">\n",
       "#T_107e8_row0_col0, #T_107e8_row0_col1, #T_107e8_row0_col2, #T_107e8_row0_col3, #T_107e8_row1_col0, #T_107e8_row1_col1, #T_107e8_row1_col2, #T_107e8_row1_col3, #T_107e8_row2_col0, #T_107e8_row2_col1, #T_107e8_row2_col2, #T_107e8_row2_col3, #T_107e8_row3_col0, #T_107e8_row3_col1, #T_107e8_row3_col2, #T_107e8_row3_col3, #T_107e8_row4_col0, #T_107e8_row4_col1, #T_107e8_row4_col2, #T_107e8_row4_col3 {\n",
       "  background-color: #cd5c5c;\n",
       "  color: black;\n",
       "  border-color: black;\n",
       "}\n",
       "</style>\n",
       "<table id=\"T_107e8\">\n",
       "  <thead>\n",
       "    <tr>\n",
       "      <th class=\"blank level0\" >&nbsp;</th>\n",
       "      <th id=\"T_107e8_level0_col0\" class=\"col_heading level0 col0\" >Recency</th>\n",
       "      <th id=\"T_107e8_level0_col1\" class=\"col_heading level0 col1\" >Frequency</th>\n",
       "      <th id=\"T_107e8_level0_col2\" class=\"col_heading level0 col2\" >Monetary</th>\n",
       "      <th id=\"T_107e8_level0_col3\" class=\"col_heading level0 col3\" >Shopping_Cycle</th>\n",
       "    </tr>\n",
       "    <tr>\n",
       "      <th class=\"index_name level0\" >CustomerID</th>\n",
       "      <th class=\"blank col0\" >&nbsp;</th>\n",
       "      <th class=\"blank col1\" >&nbsp;</th>\n",
       "      <th class=\"blank col2\" >&nbsp;</th>\n",
       "      <th class=\"blank col3\" >&nbsp;</th>\n",
       "    </tr>\n",
       "  </thead>\n",
       "  <tbody>\n",
       "    <tr>\n",
       "      <th id=\"T_107e8_level0_row0\" class=\"row_heading level0 row0\" >12347.000000</th>\n",
       "      <td id=\"T_107e8_row0_col0\" class=\"data row0 col0\" >2</td>\n",
       "      <td id=\"T_107e8_row0_col1\" class=\"data row0 col1\" >7</td>\n",
       "      <td id=\"T_107e8_row0_col2\" class=\"data row0 col2\" >4310.000000</td>\n",
       "      <td id=\"T_107e8_row0_col3\" class=\"data row0 col3\" >365</td>\n",
       "    </tr>\n",
       "    <tr>\n",
       "      <th id=\"T_107e8_level0_row1\" class=\"row_heading level0 row1\" >12348.000000</th>\n",
       "      <td id=\"T_107e8_row1_col0\" class=\"data row1 col0\" >75</td>\n",
       "      <td id=\"T_107e8_row1_col1\" class=\"data row1 col1\" >4</td>\n",
       "      <td id=\"T_107e8_row1_col2\" class=\"data row1 col2\" >1770.780000</td>\n",
       "      <td id=\"T_107e8_row1_col3\" class=\"data row1 col3\" >282</td>\n",
       "    </tr>\n",
       "    <tr>\n",
       "      <th id=\"T_107e8_level0_row2\" class=\"row_heading level0 row2\" >12352.000000</th>\n",
       "      <td id=\"T_107e8_row2_col0\" class=\"data row2 col0\" >36</td>\n",
       "      <td id=\"T_107e8_row2_col1\" class=\"data row2 col1\" >8</td>\n",
       "      <td id=\"T_107e8_row2_col2\" class=\"data row2 col2\" >1756.340000</td>\n",
       "      <td id=\"T_107e8_row2_col3\" class=\"data row2 col3\" >260</td>\n",
       "    </tr>\n",
       "    <tr>\n",
       "      <th id=\"T_107e8_level0_row3\" class=\"row_heading level0 row3\" >12356.000000</th>\n",
       "      <td id=\"T_107e8_row3_col0\" class=\"data row3 col0\" >22</td>\n",
       "      <td id=\"T_107e8_row3_col1\" class=\"data row3 col1\" >3</td>\n",
       "      <td id=\"T_107e8_row3_col2\" class=\"data row3 col2\" >2811.430000</td>\n",
       "      <td id=\"T_107e8_row3_col3\" class=\"data row3 col3\" >302</td>\n",
       "    </tr>\n",
       "    <tr>\n",
       "      <th id=\"T_107e8_level0_row4\" class=\"row_heading level0 row4\" >12358.000000</th>\n",
       "      <td id=\"T_107e8_row4_col0\" class=\"data row4 col0\" >1</td>\n",
       "      <td id=\"T_107e8_row4_col1\" class=\"data row4 col1\" >2</td>\n",
       "      <td id=\"T_107e8_row4_col2\" class=\"data row4 col2\" >1150.420000</td>\n",
       "      <td id=\"T_107e8_row4_col3\" class=\"data row4 col3\" >149</td>\n",
       "    </tr>\n",
       "  </tbody>\n",
       "</table>\n"
      ],
      "text/plain": [
       "<pandas.io.formats.style.Styler at 0x235afedacd0>"
      ]
     },
     "execution_count": 26,
     "metadata": {},
     "output_type": "execute_result"
    }
   ],
   "source": [
    "RFM[\"Shopping_Cycle\"] = Shopping_Cycle\n",
    "RFM.head().style.set_properties(**{\"background-color\": \"#cd5c5c\",\"color\": \"black\", \"border-color\": \"black\"})"
   ]
  },
  {
   "cell_type": "code",
   "execution_count": 27,
   "id": "2f2dff6b",
   "metadata": {},
   "outputs": [
    {
     "data": {
      "text/html": [
       "<style type=\"text/css\">\n",
       "#T_8e66a_row0_col0, #T_8e66a_row0_col1, #T_8e66a_row0_col2, #T_8e66a_row0_col3, #T_8e66a_row1_col0, #T_8e66a_row1_col1, #T_8e66a_row1_col2, #T_8e66a_row1_col3, #T_8e66a_row2_col0, #T_8e66a_row2_col1, #T_8e66a_row2_col2, #T_8e66a_row2_col3, #T_8e66a_row3_col0, #T_8e66a_row3_col1, #T_8e66a_row3_col2, #T_8e66a_row3_col3, #T_8e66a_row4_col0, #T_8e66a_row4_col1, #T_8e66a_row4_col2, #T_8e66a_row4_col3 {\n",
       "  background-color: #cd5c5c;\n",
       "  color: black;\n",
       "  border-color: black;\n",
       "}\n",
       "</style>\n",
       "<table id=\"T_8e66a\">\n",
       "  <thead>\n",
       "    <tr>\n",
       "      <th class=\"blank level0\" >&nbsp;</th>\n",
       "      <th id=\"T_8e66a_level0_col0\" class=\"col_heading level0 col0\" >Recency</th>\n",
       "      <th id=\"T_8e66a_level0_col1\" class=\"col_heading level0 col1\" >Frequency</th>\n",
       "      <th id=\"T_8e66a_level0_col2\" class=\"col_heading level0 col2\" >Monetary</th>\n",
       "      <th id=\"T_8e66a_level0_col3\" class=\"col_heading level0 col3\" >Interpurchase_Time</th>\n",
       "    </tr>\n",
       "    <tr>\n",
       "      <th class=\"index_name level0\" >CustomerID</th>\n",
       "      <th class=\"blank col0\" >&nbsp;</th>\n",
       "      <th class=\"blank col1\" >&nbsp;</th>\n",
       "      <th class=\"blank col2\" >&nbsp;</th>\n",
       "      <th class=\"blank col3\" >&nbsp;</th>\n",
       "    </tr>\n",
       "  </thead>\n",
       "  <tbody>\n",
       "    <tr>\n",
       "      <th id=\"T_8e66a_level0_row0\" class=\"row_heading level0 row0\" >12347.000000</th>\n",
       "      <td id=\"T_8e66a_row0_col0\" class=\"data row0 col0\" >2</td>\n",
       "      <td id=\"T_8e66a_row0_col1\" class=\"data row0 col1\" >7</td>\n",
       "      <td id=\"T_8e66a_row0_col2\" class=\"data row0 col2\" >4310.000000</td>\n",
       "      <td id=\"T_8e66a_row0_col3\" class=\"data row0 col3\" >52</td>\n",
       "    </tr>\n",
       "    <tr>\n",
       "      <th id=\"T_8e66a_level0_row1\" class=\"row_heading level0 row1\" >12348.000000</th>\n",
       "      <td id=\"T_8e66a_row1_col0\" class=\"data row1 col0\" >75</td>\n",
       "      <td id=\"T_8e66a_row1_col1\" class=\"data row1 col1\" >4</td>\n",
       "      <td id=\"T_8e66a_row1_col2\" class=\"data row1 col2\" >1770.780000</td>\n",
       "      <td id=\"T_8e66a_row1_col3\" class=\"data row1 col3\" >70</td>\n",
       "    </tr>\n",
       "    <tr>\n",
       "      <th id=\"T_8e66a_level0_row2\" class=\"row_heading level0 row2\" >12352.000000</th>\n",
       "      <td id=\"T_8e66a_row2_col0\" class=\"data row2 col0\" >36</td>\n",
       "      <td id=\"T_8e66a_row2_col1\" class=\"data row2 col1\" >8</td>\n",
       "      <td id=\"T_8e66a_row2_col2\" class=\"data row2 col2\" >1756.340000</td>\n",
       "      <td id=\"T_8e66a_row2_col3\" class=\"data row2 col3\" >32</td>\n",
       "    </tr>\n",
       "    <tr>\n",
       "      <th id=\"T_8e66a_level0_row3\" class=\"row_heading level0 row3\" >12356.000000</th>\n",
       "      <td id=\"T_8e66a_row3_col0\" class=\"data row3 col0\" >22</td>\n",
       "      <td id=\"T_8e66a_row3_col1\" class=\"data row3 col1\" >3</td>\n",
       "      <td id=\"T_8e66a_row3_col2\" class=\"data row3 col2\" >2811.430000</td>\n",
       "      <td id=\"T_8e66a_row3_col3\" class=\"data row3 col3\" >100</td>\n",
       "    </tr>\n",
       "    <tr>\n",
       "      <th id=\"T_8e66a_level0_row4\" class=\"row_heading level0 row4\" >12358.000000</th>\n",
       "      <td id=\"T_8e66a_row4_col0\" class=\"data row4 col0\" >1</td>\n",
       "      <td id=\"T_8e66a_row4_col1\" class=\"data row4 col1\" >2</td>\n",
       "      <td id=\"T_8e66a_row4_col2\" class=\"data row4 col2\" >1150.420000</td>\n",
       "      <td id=\"T_8e66a_row4_col3\" class=\"data row4 col3\" >74</td>\n",
       "    </tr>\n",
       "  </tbody>\n",
       "</table>\n"
      ],
      "text/plain": [
       "<pandas.io.formats.style.Styler at 0x235afe6c3a0>"
      ]
     },
     "execution_count": 27,
     "metadata": {},
     "output_type": "execute_result"
    }
   ],
   "source": [
    "RFM[\"Interpurchase_Time\"] = RFM[\"Shopping_Cycle\"] // RFM[\"Frequency\"]\n",
    "RFMT = RFM[[\"Recency\",\"Frequency\",\"Monetary\",\"Interpurchase_Time\"]]\n",
    "RFMT.head().style.set_properties(**{\"background-color\": \"#cd5c5c\",\"color\": \"black\", \"border-color\": \"black\"})"
   ]
  },
  {
   "cell_type": "markdown",
   "id": "55a92094",
   "metadata": {},
   "source": [
    "RFMT Model is ready for segmentation"
   ]
  },
  {
   "cell_type": "markdown",
   "id": "f616718a",
   "metadata": {},
   "source": [
    "# Modelling with KMeans Algorithm"
   ]
  },
  {
   "cell_type": "code",
   "execution_count": 28,
   "id": "2a103611",
   "metadata": {},
   "outputs": [
    {
     "data": {
      "image/png": "[encoded data removed]",
      "text/plain": [
       "<Figure size 1000x500 with 2 Axes>"
      ]
     },
     "metadata": {},
     "output_type": "display_data"
    },
    {
     "data": {
      "text/plain": [
       "<AxesSubplot:title={'center':'Distortion Score Elbow for KMeans Clustering'}, xlabel='k', ylabel='distortion score'>"
      ]
     },
     "execution_count": 28,
     "metadata": {},
     "output_type": "execute_result"
    }
   ],
   "source": [
    "# Finding initial K value using Elbow Method\n",
    "plt.figure(figsize=(10,5))\n",
    "ax = plt.axes()\n",
    "ax.set_facecolor(\"#cd5c5c\")\n",
    "Elbow_M = KElbowVisualizer(KMeans(), k=10) \n",
    "Elbow_M.fit(RFMT)\n",
    "Elbow_M.show()"
   ]
  },
  {
   "cell_type": "code",
   "execution_count": 29,
   "id": "2991a0d0",
   "metadata": {},
   "outputs": [
    {
     "data": {
      "text/plain": [
       "KMeans(max_iter=50, n_clusters=4)"
      ]
     },
     "execution_count": 29,
     "metadata": {},
     "output_type": "execute_result"
    }
   ],
   "source": [
    "#Fitting KMeans Model\n",
    "kmeans = KMeans(n_clusters=4,max_iter=50)\n",
    "kmeans.fit(RFMT)"
   ]
  },
  {
   "cell_type": "code",
   "execution_count": 30,
   "id": "20562031",
   "metadata": {},
   "outputs": [
    {
     "data": {
      "text/html": [
       "<style type=\"text/css\">\n",
       "#T_88dc1_row0_col0, #T_88dc1_row0_col1, #T_88dc1_row0_col2, #T_88dc1_row0_col3, #T_88dc1_row0_col4, #T_88dc1_row1_col0, #T_88dc1_row1_col1, #T_88dc1_row1_col2, #T_88dc1_row1_col3, #T_88dc1_row1_col4, #T_88dc1_row2_col0, #T_88dc1_row2_col1, #T_88dc1_row2_col2, #T_88dc1_row2_col3, #T_88dc1_row2_col4, #T_88dc1_row3_col0, #T_88dc1_row3_col1, #T_88dc1_row3_col2, #T_88dc1_row3_col3, #T_88dc1_row3_col4, #T_88dc1_row4_col0, #T_88dc1_row4_col1, #T_88dc1_row4_col2, #T_88dc1_row4_col3, #T_88dc1_row4_col4 {\n",
       "  background-color: #cd5c5c;\n",
       "  color: black;\n",
       "  border-color: black;\n",
       "}\n",
       "</style>\n",
       "<table id=\"T_88dc1\">\n",
       "  <thead>\n",
       "    <tr>\n",
       "      <th class=\"blank level0\" >&nbsp;</th>\n",
       "      <th id=\"T_88dc1_level0_col0\" class=\"col_heading level0 col0\" >Recency</th>\n",
       "      <th id=\"T_88dc1_level0_col1\" class=\"col_heading level0 col1\" >Frequency</th>\n",
       "      <th id=\"T_88dc1_level0_col2\" class=\"col_heading level0 col2\" >Monetary</th>\n",
       "      <th id=\"T_88dc1_level0_col3\" class=\"col_heading level0 col3\" >Interpurchase_Time</th>\n",
       "      <th id=\"T_88dc1_level0_col4\" class=\"col_heading level0 col4\" >Clusters</th>\n",
       "    </tr>\n",
       "    <tr>\n",
       "      <th class=\"index_name level0\" >CustomerID</th>\n",
       "      <th class=\"blank col0\" >&nbsp;</th>\n",
       "      <th class=\"blank col1\" >&nbsp;</th>\n",
       "      <th class=\"blank col2\" >&nbsp;</th>\n",
       "      <th class=\"blank col3\" >&nbsp;</th>\n",
       "      <th class=\"blank col4\" >&nbsp;</th>\n",
       "    </tr>\n",
       "  </thead>\n",
       "  <tbody>\n",
       "    <tr>\n",
       "      <th id=\"T_88dc1_level0_row0\" class=\"row_heading level0 row0\" >12347.000000</th>\n",
       "      <td id=\"T_88dc1_row0_col0\" class=\"data row0 col0\" >2</td>\n",
       "      <td id=\"T_88dc1_row0_col1\" class=\"data row0 col1\" >7</td>\n",
       "      <td id=\"T_88dc1_row0_col2\" class=\"data row0 col2\" >4310.000000</td>\n",
       "      <td id=\"T_88dc1_row0_col3\" class=\"data row0 col3\" >52</td>\n",
       "      <td id=\"T_88dc1_row0_col4\" class=\"data row0 col4\" >0</td>\n",
       "    </tr>\n",
       "    <tr>\n",
       "      <th id=\"T_88dc1_level0_row1\" class=\"row_heading level0 row1\" >12348.000000</th>\n",
       "      <td id=\"T_88dc1_row1_col0\" class=\"data row1 col0\" >75</td>\n",
       "      <td id=\"T_88dc1_row1_col1\" class=\"data row1 col1\" >4</td>\n",
       "      <td id=\"T_88dc1_row1_col2\" class=\"data row1 col2\" >1770.780000</td>\n",
       "      <td id=\"T_88dc1_row1_col3\" class=\"data row1 col3\" >70</td>\n",
       "      <td id=\"T_88dc1_row1_col4\" class=\"data row1 col4\" >0</td>\n",
       "    </tr>\n",
       "    <tr>\n",
       "      <th id=\"T_88dc1_level0_row2\" class=\"row_heading level0 row2\" >12352.000000</th>\n",
       "      <td id=\"T_88dc1_row2_col0\" class=\"data row2 col0\" >36</td>\n",
       "      <td id=\"T_88dc1_row2_col1\" class=\"data row2 col1\" >8</td>\n",
       "      <td id=\"T_88dc1_row2_col2\" class=\"data row2 col2\" >1756.340000</td>\n",
       "      <td id=\"T_88dc1_row2_col3\" class=\"data row2 col3\" >32</td>\n",
       "      <td id=\"T_88dc1_row2_col4\" class=\"data row2 col4\" >0</td>\n",
       "    </tr>\n",
       "    <tr>\n",
       "      <th id=\"T_88dc1_level0_row3\" class=\"row_heading level0 row3\" >12356.000000</th>\n",
       "      <td id=\"T_88dc1_row3_col0\" class=\"data row3 col0\" >22</td>\n",
       "      <td id=\"T_88dc1_row3_col1\" class=\"data row3 col1\" >3</td>\n",
       "      <td id=\"T_88dc1_row3_col2\" class=\"data row3 col2\" >2811.430000</td>\n",
       "      <td id=\"T_88dc1_row3_col3\" class=\"data row3 col3\" >100</td>\n",
       "      <td id=\"T_88dc1_row3_col4\" class=\"data row3 col4\" >0</td>\n",
       "    </tr>\n",
       "    <tr>\n",
       "      <th id=\"T_88dc1_level0_row4\" class=\"row_heading level0 row4\" >12358.000000</th>\n",
       "      <td id=\"T_88dc1_row4_col0\" class=\"data row4 col0\" >1</td>\n",
       "      <td id=\"T_88dc1_row4_col1\" class=\"data row4 col1\" >2</td>\n",
       "      <td id=\"T_88dc1_row4_col2\" class=\"data row4 col2\" >1150.420000</td>\n",
       "      <td id=\"T_88dc1_row4_col3\" class=\"data row4 col3\" >74</td>\n",
       "      <td id=\"T_88dc1_row4_col4\" class=\"data row4 col4\" >0</td>\n",
       "    </tr>\n",
       "  </tbody>\n",
       "</table>\n"
      ],
      "text/plain": [
       "<pandas.io.formats.style.Styler at 0x235afedaee0>"
      ]
     },
     "execution_count": 30,
     "metadata": {},
     "output_type": "execute_result"
    }
   ],
   "source": [
    "RFMT[\"Clusters\"]=kmeans.labels_\n",
    "RFMT.head().style.set_properties(**{\"background-color\": \"#cd5c5c\",\"color\": \"black\", \"border-color\": \"black\"})"
   ]
  },
  {
   "cell_type": "markdown",
   "id": "88a6b434",
   "metadata": {},
   "source": [
    "# Evaluation"
   ]
  },
  {
   "cell_type": "code",
   "execution_count": 31,
   "id": "f1212fe7",
   "metadata": {},
   "outputs": [
    {
     "data": {
      "text/plain": [
       "array([[5.89719161e+01, 5.44258798e+00, 1.96866850e+03, 4.64504088e+01],\n",
       "       [5.00000000e-01, 6.70000000e+01, 2.48873935e+05, 5.00000000e+00],\n",
       "       [7.04000000e+00, 4.97600000e+01, 4.13244604e+04, 1.08000000e+01],\n",
       "       [8.80000000e+00, 7.08000000e+01, 1.19436999e+05, 7.80000000e+00]])"
      ]
     },
     "execution_count": 31,
     "metadata": {},
     "output_type": "execute_result"
    }
   ],
   "source": [
    "# how well the clusters are?:\n",
    "#centriods\n",
    "kmeans.cluster_centers_"
   ]
  },
  {
   "cell_type": "code",
   "execution_count": 32,
   "id": "30307c8e",
   "metadata": {},
   "outputs": [
    {
     "data": {
      "text/plain": [
       "<function matplotlib.pyplot.show(close=None, block=None)>"
      ]
     },
     "execution_count": 32,
     "metadata": {},
     "output_type": "execute_result"
    },
    {
     "data": {
      "image/png": "[encoded data removed]",
      "text/plain": [
       "<Figure size 1000x500 with 1 Axes>"
      ]
     },
     "metadata": {},
     "output_type": "display_data"
    }
   ],
   "source": [
    "# grouping the data in accorandance with each cluster seperately\n",
    "one = RFMT[RFMT[\"Clusters\"]==0]\n",
    "two = RFMT[RFMT[\"Clusters\"]==1]\n",
    "three = RFMT[RFMT[\"Clusters\"]==2]\n",
    "four = RFMT[RFMT[\"Clusters\"]==3]\n",
    "\n",
    "#Checking the quality of clustering in the data set\n",
    "plt.figure(figsize=(10,5))\n",
    "ax = plt.axes()\n",
    "ax.set_facecolor(\"#cd5c5c\")\n",
    "plt.scatter(one[\"Recency\"],one[\"Frequency\"],color='green')\n",
    "plt.scatter(two[\"Recency\"],two[\"Frequency\"],color='red')\n",
    "plt.scatter(three[\"Recency\"],three[\"Frequency\"],color='grey')\n",
    "plt.scatter(four[\"Recency\"],four[\"Frequency\"],color='blue')\n",
    "plt.scatter(kmeans.cluster_centers_[:,0],kmeans.cluster_centers_[:,1],color=\"yellow\",marker=\"*\",label=\"centroid\")\n",
    "plt.legend()\n",
    "plt.show "
   ]
  },
  {
   "cell_type": "markdown",
   "id": "492824fb",
   "metadata": {},
   "source": [
    "Silhouette Coefficient or silhouette score is a metric used to calculate the goodness of a clustering technique. Its value ranges from -1 to 1. Score closer to 1, higher the cluster distinguished."
   ]
  },
  {
   "cell_type": "code",
   "execution_count": 33,
   "id": "1a43ff92",
   "metadata": {},
   "outputs": [
    {
     "name": "stdout",
     "output_type": "stream",
     "text": [
      "Silhouette score : 0.9386494916906333\n"
     ]
    }
   ],
   "source": [
    "from sklearn.metrics import silhouette_score\n",
    "print(\"Silhouette score :\",silhouette_score(RFMT, kmeans.labels_, metric='euclidean'))"
   ]
  },
  {
   "cell_type": "code",
   "execution_count": null,
   "id": "a157c6d5",
   "metadata": {},
   "outputs": [],
   "source": []
  }
 ],
 "metadata": {
  "kernelspec": {
   "display_name": "Python 3 (ipykernel)",
   "language": "python",
   "name": "python3"
  },
  "language_info": {
   "codemirror_mode": {
    "name": "ipython",
    "version": 3
   },
   "file_extension": ".py",
   "mimetype": "text/x-python",
   "name": "python",
   "nbconvert_exporter": "python",
   "pygments_lexer": "ipython3",
   "version": "3.9.13"
  }
 },
 "nbformat": 4,
 "nbformat_minor": 5
}
